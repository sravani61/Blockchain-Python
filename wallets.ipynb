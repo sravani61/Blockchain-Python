{
 "cells": [
  {
   "cell_type": "code",
   "execution_count": 1,
   "metadata": {},
   "outputs": [],
   "source": [
    "# import libraries\n",
    "\n",
    "import subprocess\n",
    "import json\n",
    "import os\n",
    "from constants import *\n",
    "from dotenv import load_dotenv\n",
    "from web3 import Web3\n",
    "from eth_account import Account\n",
    "from bit import PrivateKeyTestnet\n",
    "from bit.network import NetworkAPI\n",
    "from web3.middleware import geth_poa_middleware\n",
    "from web3.gas_strategies.time_based import medium_gas_price_strategy\n",
    "\n"
   ]
  },
  {
   "cell_type": "code",
   "execution_count": 3,
   "metadata": {},
   "outputs": [
    {
     "data": {
      "text/plain": [
       "True"
      ]
     },
     "execution_count": 3,
     "metadata": {},
     "output_type": "execute_result"
    }
   ],
   "source": [
    "# Loading environment variable\n",
    "\n",
    "load_dotenv()"
   ]
  },
  {
   "cell_type": "code",
   "execution_count": 4,
   "metadata": {},
   "outputs": [
    {
     "name": "stdout",
     "output_type": "stream",
     "text": [
      "duck wolf scissors inside gain squeeze scan tenant clip run improve pool\n"
     ]
    }
   ],
   "source": [
    "# get the saved mnemonic\n",
    "\n",
    "mnemonic = os.getenv('mnemonic')\n",
    "print(mnemonic)"
   ]
  },
  {
   "cell_type": "code",
   "execution_count": 5,
   "metadata": {},
   "outputs": [],
   "source": [
    "# connect to local ETH/ geth\n",
    "\n",
    "w3 = Web3(Web3.HTTPProvider('http://127.0.0.1:8545'))\n",
    "w3.middleware_onion.inject(geth_poa_middleware, layer=0)\n",
    "w3.eth.setGasPriceStrategy(medium_gas_price_strategy)\n"
   ]
  },
  {
   "cell_type": "code",
   "execution_count": 6,
   "metadata": {},
   "outputs": [],
   "source": [
    "# Define function to derive wallet addresses.\n",
    "def derive_wallets(coin_name):\n",
    "    \n",
    "    command = 'php hd-wallet-derive/derive -g --mnemonic=\"duck wolf scissors inside gain squeeze scan tenant clip run improve pool\" --numderive=3 --coin=\"{}\" --cols=index,path,address,privkey,pubkey,pubkeyhash,xprv,xpub --format=json'.format(coin_name)\n",
    "    p = subprocess.Popen(command, stdout=subprocess.PIPE, shell=True)\n",
    "    (output, err) = p.communicate()\n",
    "    p_status = p.wait()\n",
    "\n",
    "    return json.loads(output)\n",
    "    "
   ]
  },
  {
   "cell_type": "code",
   "execution_count": 17,
   "metadata": {},
   "outputs": [
    {
     "data": {
      "text/plain": [
       "{'eth': [{'index': 0,\n",
       "   'path': \"m/44'/60'/0'/0/0\",\n",
       "   'address': '0x9f8A6d6Eb0887ddDE9B3F8b3c12f40BBCCeCDFf0',\n",
       "   'privkey': '0xb42b64e59cebc07279d35297047ebdace9d8ec0a6f0052fe0e3d6f9d695b5319',\n",
       "   'pubkey': '031165a3d5d69634a32f2b223cad2fc15f1e1cb166573dc9a3f8a0cd28c3135948',\n",
       "   'pubkeyhash': '2efb6a3388630811684aee873f6d28b761c88e4c',\n",
       "   'xprv': 'xprvA2pGR2oCcpuRatjsKwbJgQ2yxjk84sugE73YgUADHdWT79bPT8XgohubvUFHHUXhgdcWzTGYg7kytXHDsvjNUP9R5DcT9DtBP5U34y8QqgF',\n",
       "   'xpub': 'xpub6FocpYL6TCTioNpLRy8K3XyiWmacULdXbKy9UrZpqy3RywvXzfqwMWE5mjz76gogHRC1Qc5cxpTRfqKEyr1URUM581soW4dqSxuXCbqZJTT'},\n",
       "  {'index': 1,\n",
       "   'path': \"m/44'/60'/0'/0/1\",\n",
       "   'address': '0x2a98A6dEce32591A5d1fF93be3F0953bC876A733',\n",
       "   'privkey': '0xd5b72be4deceb7ea902fec7a230629d9a2969856e7537cf0e22ce347bd9ad956',\n",
       "   'pubkey': '022a40027c23d029ab6d434a30fa63332d719ef9a7fb67f2c4ab72bb8bfddf2751',\n",
       "   'pubkeyhash': 'bb98d22f559ddffd0dfb102ce91ddc5a50283936',\n",
       "   'xprv': 'xprvA2pGR2oCcpuRc286EPv3EjgGJbdRa9bARSBQmpt99TpgnYabPN9HFQZnH6wRPqdqui9KuxfSx6ANZYSiqea1STiCyPaFtVxZaHhtZTYLN2C',\n",
       "   'xpub': 'xpub6FocpYL6TCTipWCZLRT3bsczrdTuycK1nf71aDHkhoMffLujvuTXoCtG8LffyryFjhqZDaEZZoLSS3Sd2VTHXgedTUMfyMzYZM9fafJEcbp'}],\n",
       " 'btc-test': [{'index': 0,\n",
       "   'path': \"m/44'/1'/0'/0/0\",\n",
       "   'address': 'mvLxU6Do3d5cHRm5r9yGhg9c1DtRvRww5j',\n",
       "   'privkey': 'cT37rRHY2vsfF7DrkWf8Gn2xD2MjN1FBpGTudgghjBgneMVk6TaM',\n",
       "   'pubkey': '02d2a406c8908541038ee3df8f7fd6ec53d4749d378358215cc98200d15e9476e0',\n",
       "   'pubkeyhash': 'a2a5df20abf0f3ce2ebf1673b84eef3a7ca20e52',\n",
       "   'xprv': 'tprv8kmimsAJBmRzc5KcRC8QNanwnkgFbHCJL73p2XLS35J1yucfx4RwhLuTHcHgDVYBrr93giknVHBHvFj1RFx4pR5vtwEu2NJhUHEaC7T7Bd4',\n",
       "   'xpub': 'tpubDHTkvHCYL97fVYMQJqnzmzT4MnCBkcPCuQebK3NjTM6QpPsSaTFXsqXKTjbenqhNgx5kjG4rn44V17UCaGjmiqRwRyfUJKCm5ByHjkUdv8y'},\n",
       "  {'index': 1,\n",
       "   'path': \"m/44'/1'/0'/0/1\",\n",
       "   'address': 'mrENYvbubExBShzEr8v3H4MphGY9YB3wSF',\n",
       "   'privkey': 'cTmGS2ACKnFbasCbhw9kCnt4uSuKvCiWkHegQabiVi94vaZq2idX',\n",
       "   'pubkey': '038d65b5bc034b51d00b4184533d1f5c48a596ac6769a180a0112df935bedf3d82',\n",
       "   'pubkeyhash': '75868f7c52f68f324dbc273106b1d05f5052c027',\n",
       "   'xprv': 'tprv8kmimsAJBmRzeaS6bcafHq1QoT3VFSQUUizQCsqeZAztDCy9nP9FxGkcvXGDqB8LMMZGDccULMZdZtA3moYj9rMdhxXQ99vNBdBHRPLJbkr',\n",
       "   'xpub': 'tpubDHTkvHCYL97fY3TtVGFFhEfXNUZRQmbP42bBVPswySoH3hDvQmxr8mNV6fpu16TtNnxFriJ3q4Mgydz67Ks6j6JBPfZrPjS8CjAWpJi3mzC'}]}"
      ]
     },
     "execution_count": 17,
     "metadata": {},
     "output_type": "execute_result"
    }
   ],
   "source": [
    "# create list of coins to be derived using declarations from constants.py\n",
    "\n",
    "coin_name = [ETH,BTCTEST]\n",
    "coins={}\n",
    "for coin in coin_name:\n",
    "    coins[coin] = derive_wallets(coin)\n",
    "coins"
   ]
  },
  {
   "cell_type": "code",
   "execution_count": 18,
   "metadata": {},
   "outputs": [],
   "source": [
    "#create a function that convert the privkey string in a child key to an account object\n",
    "\n",
    "def priv_key_to_account(coin,priv_key):\n",
    "    print(coin)\n",
    "    print(priv_key)\n",
    "    if coin == ETH:\n",
    "        return Account.privateKeyToAccount(priv_key)\n",
    "    elif coin == BTCTEST:\n",
    "        return PrivateKeyTestnet(priv_key)\n"
   ]
  },
  {
   "cell_type": "code",
   "execution_count": 19,
   "metadata": {},
   "outputs": [],
   "source": [
    "# Function to create transactions\n",
    "\n",
    "def create_tx(coin,account, recipient, amount):\n",
    "    if coin == ETH: \n",
    "        gasEstimate = w3.eth.estimateGas(\n",
    "            {\"from\":eth_acc.address, \"to\":recipient, \"value\": amount}\n",
    "        )\n",
    "        return { \n",
    "            \"from\": eth_acc.address,\n",
    "            \"to\": recipient,\n",
    "            \"value\": amount,\n",
    "            \"gasPrice\": w3.eth.gasPrice,\n",
    "            \"gas\": gasEstimate,\n",
    "            \"nonce\": w3.eth.getTransactionCount(eth_acc.address)\n",
    "        }\n",
    "    \n",
    "    elif coin == BTCTEST:\n",
    "        return PrivateKeyTestnet.prepare_transaction(btc_acc.address, [(recipient, amount, BTC)])"
   ]
  },
  {
   "cell_type": "code",
   "execution_count": 20,
   "metadata": {},
   "outputs": [],
   "source": [
    "#Function to send transactions\n",
    "def send_txn(coin,account,recipient, amount):\n",
    "    txn = create_tx(coin, account, recipient, amount)\n",
    "    if coin == ETH:\n",
    "        signed_txn = eth_acc.sign_transaction(txn)\n",
    "        result = w3.eth.sendRawTransaction(signed_txn.rawTransaction)\n",
    "        print(result.hex())\n",
    "        return result.hex()\n",
    "    elif coin == BTCTEST:\n",
    "        tx_btctest = create_tx(coin, account, recipient, amount)\n",
    "        signed_txn = account.sign_transaction(txn)\n",
    "        print(signed_txn)\n",
    "        return NetworkAPI.broadcast_tx_testnet(signed_txn)\n"
   ]
  },
  {
   "cell_type": "code",
   "execution_count": 21,
   "metadata": {},
   "outputs": [
    {
     "name": "stdout",
     "output_type": "stream",
     "text": [
      "eth\n",
      "0xb42b64e59cebc07279d35297047ebdace9d8ec0a6f0052fe0e3d6f9d695b5319\n",
      "btc-test\n",
      "cT37rRHY2vsfF7DrkWf8Gn2xD2MjN1FBpGTudgghjBgneMVk6TaM\n"
     ]
    }
   ],
   "source": [
    "# Declaring variables to store private key\n",
    "\n",
    "eth_acc = priv_key_to_account(ETH, coins[ETH][0]['privkey'])\n",
    "btc_acc = priv_key_to_account(BTCTEST,coins[BTCTEST][0]['privkey'])"
   ]
  },
  {
   "cell_type": "code",
   "execution_count": 23,
   "metadata": {},
   "outputs": [
    {
     "data": {
      "text/plain": [
       "{'from': '0x9f8A6d6Eb0887ddDE9B3F8b3c12f40BBCCeCDFf0',\n",
       " 'to': '0xf096a93fAaCD15848F3CF94ACc0bd3f7d8F5c808',\n",
       " 'value': 1,\n",
       " 'gasPrice': 20000000000,\n",
       " 'gas': 21000,\n",
       " 'nonce': 15}"
      ]
     },
     "execution_count": 23,
     "metadata": {},
     "output_type": "execute_result"
    }
   ],
   "source": [
    "#Creating transaction in ETH\n",
    "\n",
    "create_tx(ETH,eth_acc,\"0xf096a93fAaCD15848F3CF94ACc0bd3f7d8F5c808\", 1)"
   ]
  },
  {
   "cell_type": "code",
   "execution_count": 24,
   "metadata": {},
   "outputs": [
    {
     "name": "stdout",
     "output_type": "stream",
     "text": [
      "0xf2044afd27a7de9c125268d85267f7bbbd0f31e4db61136d19f2e5236b2accee\n"
     ]
    },
    {
     "data": {
      "text/plain": [
       "'0xf2044afd27a7de9c125268d85267f7bbbd0f31e4db61136d19f2e5236b2accee'"
      ]
     },
     "execution_count": 24,
     "metadata": {},
     "output_type": "execute_result"
    }
   ],
   "source": [
    "#Sending the transaction to designated network\n",
    "\n",
    "send_txn(ETH, eth_acc,\"0x3dA0F09EF6F833b179768a63AdD29061e0702e47\", 1)"
   ]
  },
  {
   "cell_type": "code",
   "execution_count": 25,
   "metadata": {},
   "outputs": [
    {
     "data": {
      "text/plain": [
       "11"
      ]
     },
     "execution_count": 25,
     "metadata": {},
     "output_type": "execute_result"
    }
   ],
   "source": [
    "#checking balance of the account\n",
    "\n",
    "w3.eth.getBalance(\"0x3dA0F09EF6F833b179768a63AdD29061e0702e47\")"
   ]
  },
  {
   "cell_type": "code",
   "execution_count": 27,
   "metadata": {},
   "outputs": [
    {
     "data": {
      "text/plain": [
       "'{\"unspents\":[{\"amount\":1000,\"confirmations\":3,\"script\":\"76a914a2a5df20abf0f3ce2ebf1673b84eef3a7ca20e5288ac\",\"txid\":\"5213aa536a827da94ad9c2f81243c2c485186396681960b21f8bd29534448ef6\",\"txindex\":0,\"type\":\"p2pkh\",\"vsize\":148,\"segwit\":false,\"sequence\":4294967295},{\"amount\":37800,\"confirmations\":3,\"script\":\"76a914a2a5df20abf0f3ce2ebf1673b84eef3a7ca20e5288ac\",\"txid\":\"5213aa536a827da94ad9c2f81243c2c485186396681960b21f8bd29534448ef6\",\"txindex\":1,\"type\":\"p2pkh\",\"vsize\":148,\"segwit\":false,\"sequence\":4294967295},{\"amount\":100000,\"confirmations\":0,\"script\":\"76a914a2a5df20abf0f3ce2ebf1673b84eef3a7ca20e5288ac\",\"txid\":\"d55fcb3dd29ed24d9c79e0dc80e3a6fbcd7a040b3308f52ed56bc67baa5ede8d\",\"txindex\":0,\"type\":\"p2pkh\",\"vsize\":148,\"segwit\":false,\"sequence\":4294967295}],\"outputs\":[[\"mvLxU6Do3d5cHRm5r9yGhg9c1DtRvRww5j\",1],[\"mvLxU6Do3d5cHRm5r9yGhg9c1DtRvRww5j\",85555]]}'"
      ]
     },
     "execution_count": 27,
     "metadata": {},
     "output_type": "execute_result"
    }
   ],
   "source": [
    "#Creating transaction in BTC\n",
    "\n",
    "create_tx(BTCTEST,btc_acc,\"mvLxU6Do3d5cHRm5r9yGhg9c1DtRvRww5j\", 0.00000001)"
   ]
  },
  {
   "cell_type": "code",
   "execution_count": 28,
   "metadata": {},
   "outputs": [
    {
     "name": "stdout",
     "output_type": "stream",
     "text": [
      "0100000003f68e443495d28b1fb260196896631885c4c24312f8c2d94aa97d826a53aa1352000000006a47304402200dd8cc6764df0b97e750f0a5caaaa6ac02dcb578a8c06eb8ed1bba270ef02fb1022065780b31613422707b97a30599fa539f22d4ddac01916b74e23a89cd96350e47012102d2a406c8908541038ee3df8f7fd6ec53d4749d378358215cc98200d15e9476e0fffffffff68e443495d28b1fb260196896631885c4c24312f8c2d94aa97d826a53aa1352010000006b483045022100872818b39f40006371f45eec7723a78b51f204bf16dfd249ba81dfd89d0c86a50220217cd588052c1a06ba67cc2a3380c105f6146b87247c03720566622d541f664f012102d2a406c8908541038ee3df8f7fd6ec53d4749d378358215cc98200d15e9476e0ffffffff8dde5eaa7bc66bd52ef508330b047acdfba6e380dce0799c4dd29ed23dcb5fd5000000006b4830450221009c383179d537c4eaf46d79996cb09e24846860743fc1f28ab0be26851c2b374a02206f8c6e29564b5af9891f5f4b6b9f154f89363b7c1f07cf1337c675aaef00ff70012102d2a406c8908541038ee3df8f7fd6ec53d4749d378358215cc98200d15e9476e0ffffffff0201000000000000001976a914a2a5df20abf0f3ce2ebf1673b84eef3a7ca20e5288ac334e0100000000001976a914a2a5df20abf0f3ce2ebf1673b84eef3a7ca20e5288ac00000000\n"
     ]
    }
   ],
   "source": [
    "send_txn(BTCTEST,btc_acc,\"mvLxU6Do3d5cHRm5r9yGhg9c1DtRvRww5j\", 0.00000001)"
   ]
  },
  {
   "cell_type": "code",
   "execution_count": null,
   "metadata": {},
   "outputs": [],
   "source": []
  },
  {
   "cell_type": "code",
   "execution_count": null,
   "metadata": {},
   "outputs": [],
   "source": []
  }
 ],
 "metadata": {
  "kernelspec": {
   "display_name": "Python [conda env:ethereum]",
   "language": "python",
   "name": "conda-env-ethereum-py"
  },
  "language_info": {
   "codemirror_mode": {
    "name": "ipython",
    "version": 3
   },
   "file_extension": ".py",
   "mimetype": "text/x-python",
   "name": "python",
   "nbconvert_exporter": "python",
   "pygments_lexer": "ipython3",
   "version": "3.9.1"
  }
 },
 "nbformat": 4,
 "nbformat_minor": 4
}
